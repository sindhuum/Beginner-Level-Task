{
  "nbformat": 4,
  "nbformat_minor": 0,
  "metadata": {
    "colab": {
      "provenance": [],
      "authorship_tag": "ABX9TyOAtJbD0lEXH3UGEUpD0oaI",
      "include_colab_link": true
    },
    "kernelspec": {
      "name": "python3",
      "display_name": "Python 3"
    },
    "language_info": {
      "name": "python"
    }
  },
  "cells": [
    {
      "cell_type": "markdown",
      "metadata": {
        "id": "view-in-github",
        "colab_type": "text"
      },
      "source": [
        "<a href=\"https://colab.research.google.com/github/sindhuum/Beginner-Level-Task/blob/main/1_4.ipynb\" target=\"_parent\"><img src=\"https://colab.research.google.com/assets/colab-badge.svg\" alt=\"Open In Colab\"/></a>"
      ]
    },
    {
      "cell_type": "code",
      "execution_count": null,
      "metadata": {
        "id": "kP13neqpwutw",
        "colab": {
          "base_uri": "https://localhost:8080/"
        },
        "outputId": "3851597d-2037-472c-8f43-e42592aeeba9"
      },
      "outputs": [
        {
          "output_type": "stream",
          "name": "stdout",
          "text": [
            "Enter height in meters: 15\n",
            "Enter weight in kilograms: 45\n",
            "Underweight\n",
            "Enter a city name: Mumbai\n",
            "Mumbai is in India\n",
            "Enter the first city: Dubai\n",
            "Enter the second city: Ajman\n",
            "Both cities are in UAE\n"
          ]
        }
      ],
      "source": [
        "# 4.1 BMI Calculator\n",
        "height = float(input(\"Enter height in meters: \"))\n",
        "weight = float(input(\"Enter weight in kilograms: \"))\n",
        "bmi = weight / (height ** 2)\n",
        "\n",
        "if bmi >= 30:\n",
        "    print(\"Obesity\")\n",
        "elif 25 <= bmi < 30:\n",
        "    print(\"Overweight\")\n",
        "elif 18.5 <= bmi < 25:\n",
        "    print(\"Normal\")\n",
        "else:\n",
        "    print(\"Underweight\")\n",
        "\n",
        "# 4.2 City to Country Mapping\n",
        "australia = [\"Sydney\", \"Melbourne\", \"Brisbane\", \"Perth\"]\n",
        "uae = [\"Dubai\", \"Abu Dhabi\", \"Sharjah\", \"Ajman\"]\n",
        "india = [\"Mumbai\", \"Bangalore\", \"Chennai\", \"Delhi\"]\n",
        "\n",
        "city = input(\"Enter a city name: \")\n",
        "\n",
        "if city in australia:\n",
        "    print(f\"{city} is in Australia\")\n",
        "elif city in uae:\n",
        "    print(f\"{city} is in UAE\")\n",
        "elif city in india:\n",
        "    print(f\"{city} is in India\")\n",
        "else:\n",
        "    print(\"City not found in database.\")\n",
        "\n",
        "# 4.3 Same Country Checker\n",
        "city1 = input(\"Enter the first city: \")\n",
        "city2 = input(\"Enter the second city: \")\n",
        "\n",
        "def get_country(city):\n",
        "    if city in australia:\n",
        "        return \"Australia\"\n",
        "    elif city in uae:\n",
        "        return \"UAE\"\n",
        "    elif city in india:\n",
        "        return \"India\"\n",
        "    else:\n",
        "        return None\n",
        "\n",
        "country1 = get_country(city1)\n",
        "country2 = get_country(city2)\n",
        "\n",
        "if country1 and country1 == country2:\n",
        "    print(f\"Both cities are in {country1}\")\n",
        "else:\n",
        "    print(\"They don't belong to the same country\")\n"
      ]
    }
  ]
}
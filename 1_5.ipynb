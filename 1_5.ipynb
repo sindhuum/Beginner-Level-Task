{
  "nbformat": 4,
  "nbformat_minor": 0,
  "metadata": {
    "colab": {
      "provenance": [],
      "authorship_tag": "ABX9TyODooThxd83KGurLjGzEHvI",
      "include_colab_link": true
    },
    "kernelspec": {
      "name": "python3",
      "display_name": "Python 3"
    },
    "language_info": {
      "name": "python"
    }
  },
  "cells": [
    {
      "cell_type": "markdown",
      "metadata": {
        "id": "view-in-github",
        "colab_type": "text"
      },
      "source": [
        "<a href=\"https://colab.research.google.com/github/sindhuum/Beginner-Level-Task/blob/main/1_5.ipynb\" target=\"_parent\"><img src=\"https://colab.research.google.com/assets/colab-badge.svg\" alt=\"Open In Colab\"/></a>"
      ]
    },
    {
      "cell_type": "code",
      "execution_count": null,
      "metadata": {
        "colab": {
          "base_uri": "https://localhost:8080/"
        },
        "id": "mKkIFoRiytj7",
        "outputId": "76c25d1d-5f56-4aaa-c588-81611b9924df"
      },
      "outputs": [
        {
          "output_type": "stream",
          "name": "stdout",
          "text": [
            "Rolls: [3, 1, 1, 2, 4, 5, 5, 4, 3, 3, 4, 2, 2, 3, 5, 2, 6, 1, 6, 6]\n",
            "Number of 6s rolled: 3\n",
            "Number of 1s rolled: 3\n",
            "Number of times two 6s were rolled in a row: 1\n",
            "You've completed 10 jumping jacks.\n",
            "Are you tired? (yes/no): yes\n",
            "Do you want to skip the remaining sets? (yes/no): no\n",
            "You've completed 20 jumping jacks.\n",
            "Are you tired? (yes/no): no\n",
            "You've completed 30 jumping jacks.\n",
            "Are you tired? (yes/no): yes\n",
            "Do you want to skip the remaining sets? (yes/no): yes\n",
            "You completed a total of 30 jumping jacks.\n"
          ]
        }
      ],
      "source": [
        "import random\n",
        "\n",
        "# 5.1 Simulate 20 die rolls\n",
        "rolls = [random.randint(1, 6) for _ in range(20)]\n",
        "print(\"Rolls:\", rolls)\n",
        "count_6 = rolls.count(6)\n",
        "count_1 = rolls.count(1)\n",
        "two_6s_in_a_row = sum(1 for i in range(len(rolls)-1) if rolls[i] == 6 and rolls[i+1] == 6)\n",
        "\n",
        "print(\"Number of 6s rolled:\", count_6)\n",
        "print(\"Number of 1s rolled:\", count_1)\n",
        "print(\"Number of times two 6s were rolled in a row:\", two_6s_in_a_row)\n",
        "\n",
        "# 5.2 Jumping Jack Exercise\n",
        "completed = 0\n",
        "for i in range(0, 100, 10):\n",
        "    completed += 10\n",
        "    print(f\"You've completed {completed} jumping jacks.\")\n",
        "    response = input(\"Are you tired? (yes/no): \").lower()\n",
        "    if response in ['yes', 'y']:\n",
        "        skip = input(\"Do you want to skip the remaining sets? (yes/no): \").lower()\n",
        "        if skip in ['yes', 'y']:\n",
        "            break\n",
        "        else:\n",
        "            continue\n",
        "if completed >= 100:\n",
        "    print(\"Congratulations! You completed the workout.\")\n",
        "else:\n",
        "    print(f\"You completed a total of {completed} jumping jacks.\")\n"
      ]
    }
  ]
}
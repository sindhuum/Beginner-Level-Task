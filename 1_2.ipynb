{
  "nbformat": 4,
  "nbformat_minor": 0,
  "metadata": {
    "colab": {
      "provenance": [],
      "authorship_tag": "ABX9TyNtx/PHeL8zK9lu454bCoB4",
      "include_colab_link": true
    },
    "kernelspec": {
      "name": "python3",
      "display_name": "Python 3"
    },
    "language_info": {
      "name": "python"
    }
  },
  "cells": [
    {
      "cell_type": "markdown",
      "metadata": {
        "id": "view-in-github",
        "colab_type": "text"
      },
      "source": [
        "<a href=\"https://colab.research.google.com/github/sindhuum/Beginner-Level-Task/blob/main/1_2.ipynb\" target=\"_parent\"><img src=\"https://colab.research.google.com/assets/colab-badge.svg\" alt=\"Open In Colab\"/></a>"
      ]
    },
    {
      "cell_type": "code",
      "execution_count": null,
      "metadata": {
        "colab": {
          "base_uri": "https://localhost:8080/"
        },
        "id": "rulDQDXev7i-",
        "outputId": "2ff8678e-cbb6-4267-cb09-ce6a2b3a07db"
      },
      "outputs": [
        {
          "output_type": "stream",
          "name": "stdout",
          "text": [
            "Formatted (octal) string of 145: 221\n",
            "Area of the pond (in sq.m): 22155\n",
            "Total water in the pond (liters): 31016\n",
            "Speed (m/s): 1\n"
          ]
        }
      ],
      "source": [
        "# 2.1 Formatting with format()\n",
        "formatted_string = \"{0:o}\".format(145)\n",
        "print(\"Formatted (octal) string of 145:\", formatted_string)\n",
        "\n",
        "# 2.2 Area of a circular pond\n",
        "radius = 84\n",
        "pi = 3.14\n",
        "area = int(pi * radius * radius)\n",
        "print(\"Area of the pond (in sq.m):\", area)\n",
        "\n",
        "# Water volume in liters\n",
        "liters = int(area * 1.4)\n",
        "print(\"Total water in the pond (liters):\", liters)\n",
        "\n",
        "# 2.3 Speed Calculation\n",
        "distance = 490  # meters\n",
        "time_minutes = 7\n",
        "time_seconds = time_minutes * 60\n",
        "speed = int(distance / time_seconds)\n",
        "print(\"Speed (m/s):\", speed)\n"
      ]
    }
  ]
}
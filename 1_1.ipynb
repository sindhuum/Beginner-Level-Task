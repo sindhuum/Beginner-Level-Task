{
  "nbformat": 4,
  "nbformat_minor": 0,
  "metadata": {
    "colab": {
      "provenance": [],
      "authorship_tag": "ABX9TyN/wOHNpuzPmjxzSljDoVBE",
      "include_colab_link": true
    },
    "kernelspec": {
      "name": "python3",
      "display_name": "Python 3"
    },
    "language_info": {
      "name": "python"
    }
  },
  "cells": [
    {
      "cell_type": "markdown",
      "metadata": {
        "id": "view-in-github",
        "colab_type": "text"
      },
      "source": [
        "<a href=\"https://colab.research.google.com/github/sindhuum/Beginner-Level-Task/blob/main/1_1.ipynb\" target=\"_parent\"><img src=\"https://colab.research.google.com/assets/colab-badge.svg\" alt=\"Open In Colab\"/></a>"
      ]
    },
    {
      "cell_type": "code",
      "execution_count": null,
      "metadata": {
        "colab": {
          "base_uri": "https://localhost:8080/"
        },
        "id": "f1OEHfMGu9B9",
        "outputId": "1efa61e8-b828-408c-a876-de6a9e7ccc4f"
      },
      "outputs": [
        {
          "output_type": "stream",
          "name": "stdout",
          "text": [
            "Value of pi: 3.142857142857143\n",
            "Data type of pi: <class 'float'>\n",
            "Error: invalid syntax (<string>, line 1)\n",
            "Simple Interest: 150.0\n"
          ]
        }
      ],
      "source": [
        "# 1.1 Create a variable named pi and check its type\n",
        "pi = 22 / 7\n",
        "print(\"Value of pi:\", pi)\n",
        "print(\"Data type of pi:\", type(pi))\n",
        "\n",
        "# 1.2 Try to create a variable named 'for'\n",
        "try:\n",
        "    exec(\"for = 4\")\n",
        "except SyntaxError as e:\n",
        "    print(\"Error:\", e)\n",
        "\n",
        "# 1.3 Simple Interest calculation\n",
        "P = 1000  # Principal\n",
        "R = 5     # Rate\n",
        "T = 3     # Time\n",
        "SI = (P * R * T) / 100\n",
        "print(\"Simple Interest:\", SI)\n"
      ]
    }
  ]
}
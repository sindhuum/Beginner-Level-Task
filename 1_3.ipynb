{
  "nbformat": 4,
  "nbformat_minor": 0,
  "metadata": {
    "colab": {
      "provenance": [],
      "authorship_tag": "ABX9TyO7QRmiynJbKo2vU3Y1EKQJ",
      "include_colab_link": true
    },
    "kernelspec": {
      "name": "python3",
      "display_name": "Python 3"
    },
    "language_info": {
      "name": "python"
    }
  },
  "cells": [
    {
      "cell_type": "markdown",
      "metadata": {
        "id": "view-in-github",
        "colab_type": "text"
      },
      "source": [
        "<a href=\"https://colab.research.google.com/github/sindhuum/Beginner-Level-Task/blob/main/1_3.ipynb\" target=\"_parent\"><img src=\"https://colab.research.google.com/assets/colab-badge.svg\" alt=\"Open In Colab\"/></a>"
      ]
    },
    {
      "cell_type": "code",
      "execution_count": null,
      "metadata": {
        "colab": {
          "base_uri": "https://localhost:8080/"
        },
        "id": "FErJj4zQwcIG",
        "outputId": "c8905642-d0ad-4ea5-ced0-3dfc05c7c281"
      },
      "outputs": [
        {
          "output_type": "stream",
          "name": "stdout",
          "text": [
            "Initial members: 6\n",
            "After adding Batgirl and Nightwing: ['Superman', 'Batman', 'Wonder Woman', 'Flash', 'Aquaman', 'Green Lantern', 'Batgirl', 'Nightwing']\n",
            "After promoting Wonder Woman: ['Wonder Woman', 'Superman', 'Batman', 'Flash', 'Aquaman', 'Green Lantern', 'Batgirl', 'Nightwing']\n",
            "After resolving conflict: ['Wonder Woman', 'Superman', 'Batman', 'Green Lantern', 'Flash', 'Aquaman', 'Batgirl', 'Nightwing']\n",
            "New team: ['Cyborg', 'Shazam', 'Hawkgirl', 'Martian Manhunter', 'Green Arrow']\n",
            "Sorted team: ['Cyborg', 'Green Arrow', 'Hawkgirl', 'Martian Manhunter', 'Shazam']\n",
            "New leader: Cyborg\n"
          ]
        }
      ],
      "source": [
        "# 3.1 Justice League operations\n",
        "justice_league = [\"Superman\", \"Batman\", \"Wonder Woman\", \"Flash\", \"Aquaman\", \"Green Lantern\"]\n",
        "\n",
        "# Step 1\n",
        "print(\"Initial members:\", len(justice_league))\n",
        "\n",
        "# Step 2\n",
        "justice_league += [\"Batgirl\", \"Nightwing\"]\n",
        "print(\"After adding Batgirl and Nightwing:\", justice_league)\n",
        "\n",
        "# Step 3\n",
        "justice_league.remove(\"Wonder Woman\")\n",
        "justice_league.insert(0, \"Wonder Woman\")\n",
        "print(\"After promoting Wonder Woman:\", justice_league)\n",
        "\n",
        "# Step 4\n",
        "justice_league.remove(\"Green Lantern\")\n",
        "justice_league.insert(justice_league.index(\"Flash\"), \"Green Lantern\")\n",
        "print(\"After resolving conflict:\", justice_league)\n",
        "\n",
        "# Step 5\n",
        "justice_league = [\"Cyborg\", \"Shazam\", \"Hawkgirl\", \"Martian Manhunter\", \"Green Arrow\"]\n",
        "print(\"New team:\", justice_league)\n",
        "\n",
        "# Step 6\n",
        "justice_league.sort()\n",
        "print(\"Sorted team:\", justice_league)\n",
        "print(\"New leader:\", justice_league[0])  # Predicted leader\n"
      ]
    }
  ]
}